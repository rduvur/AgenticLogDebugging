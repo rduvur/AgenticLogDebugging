{
  "cells": [
    {
      "cell_type": "markdown",
      "metadata": {
        "id": "ZaaAx_2uMeDL"
      },
      "source": [
        "# CloudAEye Simple Agent + Tool Log Analyzer"
      ]
    },
    {
      "cell_type": "code",
      "execution_count": 2,
      "metadata": {
        "colab": {
          "base_uri": "https://localhost:8080/"
        },
        "id": "DuxzhdTxMeDM",
        "outputId": "bd76479b-44f9-4826-e019-1d88648423af"
      },
      "outputs": [
        {
          "name": "stderr",
          "output_type": "stream",
          "text": [
            "/usr/local/lib/python3.10/dist-packages/langchain_core/_api/deprecation.py:139: LangChainDeprecationWarning: The class `GoogleSearchAPIWrapper` was deprecated in LangChain 0.0.33 and will be removed in 0.3.0. An updated version of the class exists in the langchain-google-community package and should be used instead. To use it run `pip install -U langchain-google-community` and import as `from langchain_google_community import GoogleSearchAPIWrapper`.\n",
            "  warn_deprecated(\n"
          ]
        }
      ],
      "source": [
        "%pip install -q langchain_community langchain_core langchain_groq langgraph\n",
        "%pip install -q google-api-python-client\n",
        "\n",
        "import os\n",
        "\n",
        "from langchain_community.utilities import GoogleSearchAPIWrapper\n",
        "from langchain_core.tools import Tool\n",
        "\n",
        "from typing import TypedDict, Annotated, List\n",
        "from langgraph.graph import StateGraph, END\n",
        "\n",
        "from langchain.prompts import PromptTemplate\n",
        "\n",
        "from langchain_core.output_parsers import StrOutputParser, JsonOutputParser\n",
        "from langchain_groq import ChatGroq\n",
        "\n",
        "chat = ChatGroq(\n",
        "    model=\"llama3-70b-8192\",\n",
        "    groq_api_key = ''\n",
        ")\n",
        "\n",
        "search = GoogleSearchAPIWrapper(google_api_key='',\n",
        "                                google_cse_id=\"\",\n",
        "                                k=1)\n",
        "\n",
        "tool = Tool(\n",
        "    name=\"google_search\",\n",
        "    description=\"Search Google for recent results.\",\n",
        "    func=search.run,\n",
        ")\n"
      ]
    },
    {
      "cell_type": "markdown",
      "metadata": {
        "id": "SHc7unN6MeDN"
      },
      "source": [
        "## Creating function to isolate logs at User-Provided TimeStamp"
      ]
    },
    {
      "cell_type": "code",
      "execution_count": 3,
      "metadata": {
        "colab": {
          "base_uri": "https://localhost:8080/"
        },
        "id": "xtfjMtZ-MeDN",
        "outputId": "773de2fd-e4bc-4a41-de1c-4a5f9b62342b"
      },
      "outputs": [
        {
          "data": {
            "text/plain": [
              "['03/22 08:51:02 INFO   :..reg_process: return from registration rc=0',\n",
              " ' 04',\n",
              " '03/22 08:51:06 TRACE  :...read_physical_netif: Home list entries returned = 7',\n",
              " '03/22 08:51:06 INFO   :...read_physical_netif: index #0, interface VLINK1 has address 129.1.1.1, ifidx 0',\n",
              " '03/22 08:51:06 INFO   :...read_physical_netif: index #1, interface TR1 has address 9.37.65.139, ifidx 1',\n",
              " '03/22 08:51:06 INFO   :...read_physical_netif: index #2, interface LINK11 has address 9.67.100.1, ifidx 2',\n",
              " '03/22 08:51:06 INFO   :...read_physical_netif: index #3, interface LINK12 has address 9.67.101.1, ifidx 3',\n",
              " '03/22 08:51:06 INFO   :...read_physical_netif: index #4, interface CTCD0 has address 9.67.116.98, ifidx 4',\n",
              " '03/22 08:51:06 INFO   :...read_physical_netif: index #5, interface CTCD2 has address 9.67.117.98, ifidx 5',\n",
              " '03/22 08:51:06 INFO   :...read_physical_netif: index #6, interface LOOPBACK has address 127.0.0.1, ifidx 0',\n",
              " '03/22 08:51:06 INFO   :...mailbox_register: mailbox allocated for timer',\n",
              " ' 05',\n",
              " '03/22 08:51:06 INFO   :.....mailslot_create: creating mailslot for RSVP',\n",
              " '03/22 08:51:06 INFO   :....mailbox_register: mailbox allocated for rsvp',\n",
              " '03/22 08:51:06 INFO   :.....mailslot_create: creating mailslot for RSVP via UDP',\n",
              " ' 06',\n",
              " '03/22 08:51:06 WARNING:.....mailslot_create: setsockopt(MCAST_ADD) failed - EDC8116I Address not available.',\n",
              " '03/22 08:51:06 INFO   :....mailbox_register: mailbox allocated for rsvp-udp',\n",
              " '03/22 08:51:06 TRACE  :..entity_initialize: interface 129.1.1.1, entity for rsvp allocated and initialized',\n",
              " '03/22 08:51:06 INFO   :.....mailslot_create: creating mailslot for RSVP',\n",
              " '03/22 08:51:06 INFO   :....mailbox_register: mailbox allocated for rsvp',\n",
              " '03/22 08:51:06 INFO   :.....mailslot_create: creating mailslot for RSVP via UDP',\n",
              " '03/22 08:51:06 WARNING:.....mailslot_create: setsockopt(MCAST_ADD) failed - EDC8116I Address not available.',\n",
              " '03/22 08:51:06 INFO   :....mailbox_register: mailbox allocated for rsvp-udp',\n",
              " '03/22 08:51:06 TRACE  :..entity_initialize: interface 9.37.65.139, entity for rsvp allocated and']"
            ]
          },
          "execution_count": 3,
          "metadata": {},
          "output_type": "execute_result"
        }
      ],
      "source": [
        "## Example logs:\n",
        "\n",
        "log_data = \"\"\"\n",
        " 01\n",
        "03/22 08:51:01 INFO   :.main: *************** RSVP Agent started ***************\n",
        " 02\n",
        "03/22 08:51:01 INFO   :...locate_configFile: Specified configuration file: /u/user10/rsvpd1.conf\n",
        "03/22 08:51:01 INFO   :.main: Using log level 511\n",
        "03/22 08:51:01 INFO   :..settcpimage: Get TCP images rc - EDC8112I Operation not supported on socket.\n",
        " 03\n",
        "03/22 08:51:01 INFO   :..settcpimage: Associate with TCP/IP image name = TCPCS\n",
        "03/22 08:51:02 INFO   :..reg_process: registering process with the system\n",
        "03/22 08:51:02 INFO   :..reg_process: attempt OS/390 registration\n",
        "03/22 08:51:02 INFO   :..reg_process: return from registration rc=0\n",
        " 04\n",
        "03/22 08:51:06 TRACE  :...read_physical_netif: Home list entries returned = 7\n",
        "03/22 08:51:06 INFO   :...read_physical_netif: index #0, interface VLINK1 has address 129.1.1.1, ifidx 0\n",
        "03/22 08:51:06 INFO   :...read_physical_netif: index #1, interface TR1 has address 9.37.65.139, ifidx 1\n",
        "03/22 08:51:06 INFO   :...read_physical_netif: index #2, interface LINK11 has address 9.67.100.1, ifidx 2\n",
        "03/22 08:51:06 INFO   :...read_physical_netif: index #3, interface LINK12 has address 9.67.101.1, ifidx 3\n",
        "03/22 08:51:06 INFO   :...read_physical_netif: index #4, interface CTCD0 has address 9.67.116.98, ifidx 4\n",
        "03/22 08:51:06 INFO   :...read_physical_netif: index #5, interface CTCD2 has address 9.67.117.98, ifidx 5\n",
        "03/22 08:51:06 INFO   :...read_physical_netif: index #6, interface LOOPBACK has address 127.0.0.1, ifidx 0\n",
        "03/22 08:51:06 INFO   :....mailslot_create: creating mailslot for timer\n",
        "03/22 08:51:06 INFO   :...mailbox_register: mailbox allocated for timer\n",
        " 05\n",
        "03/22 08:51:06 INFO   :.....mailslot_create: creating mailslot for RSVP\n",
        "03/22 08:51:06 INFO   :....mailbox_register: mailbox allocated for rsvp\n",
        "03/22 08:51:06 INFO   :.....mailslot_create: creating mailslot for RSVP via UDP\n",
        " 06\n",
        "03/22 08:51:06 WARNING:.....mailslot_create: setsockopt(MCAST_ADD) failed - EDC8116I Address not available.\n",
        "03/22 08:51:06 INFO   :....mailbox_register: mailbox allocated for rsvp-udp\n",
        "03/22 08:51:06 TRACE  :..entity_initialize: interface 129.1.1.1, entity for rsvp allocated and initialized\n",
        "03/22 08:51:06 INFO   :.....mailslot_create: creating mailslot for RSVP\n",
        "03/22 08:51:06 INFO   :....mailbox_register: mailbox allocated for rsvp\n",
        "03/22 08:51:06 INFO   :.....mailslot_create: creating mailslot for RSVP via UDP\n",
        "03/22 08:51:06 WARNING:.....mailslot_create: setsockopt(MCAST_ADD) failed - EDC8116I Address not available.\n",
        "03/22 08:51:06 INFO   :....mailbox_register: mailbox allocated for rsvp-udp\n",
        "03/22 08:51:06 TRACE  :..entity_initialize: interface 9.37.65.139, entity for rsvp allocated and\n",
        "initialized\n",
        "\"\"\"\n",
        "\n",
        "def get_nearby_logs(logs, timestamp, num_lines=2):\n",
        "    list_logs = logs.strip().split(\"\\n\")\n",
        "    res = []\n",
        "    i = 0\n",
        "    while i < len(list_logs):\n",
        "        if list_logs[i].startswith(timestamp):\n",
        "            start_index = max(0, i - num_lines)\n",
        "            end_index = min(len(list_logs) - 1, i + num_lines + 1)\n",
        "            for string in list_logs[start_index:end_index]:\n",
        "                res.append(string)\n",
        "\n",
        "            i += (2 * num_lines + 1)\n",
        "        else:\n",
        "            i += 1\n",
        "\n",
        "    return res\n",
        "\n",
        "timestamp = \"03/22 08:51:06\"\n",
        "\n",
        "nearby_logs = get_nearby_logs(log_data, timestamp)\n",
        "\n",
        "to_str = \"\\n\".join(nearby_logs)\n",
        "nearby_logs"
      ]
    },
    {
      "cell_type": "markdown",
      "metadata": {
        "id": "cB_gJXJRMeDN"
      },
      "source": [
        "## Categorizing Logs\n",
        "\n",
        "### After selecting only nearby logs, we use a llama3 model to filter anamolous logs"
      ]
    },
    {
      "cell_type": "code",
      "execution_count": 4,
      "metadata": {
        "colab": {
          "base_uri": "https://localhost:8080/"
        },
        "id": "m-CYuc9jMeDN",
        "outputId": "d401d258-24e8-4386-d57d-38572884f5af"
      },
      "outputs": [
        {
          "name": "stdout",
          "output_type": "stream",
          "text": [
            "03/22 08:51:06 WARNING:.....mailslot_create: setsockopt(MCAST_ADD) failed - EDC8116I Address not available.\n",
            "03/22 08:51:06 WARNING:.....mailslot_create: setsockopt(MCAST_ADD) failed - EDC8116I Address not available.\n"
          ]
        }
      ],
      "source": [
        "# Categorize logs\n",
        "\n",
        "prompt = PromptTemplate(\n",
        "    template=\"\"\"system\n",
        "You are a Log Categorizer Agent. You excel at interpreting log messages. Your task is to categorize the given log into one of two categories: \\\\\n",
        "\n",
        "- 'anamolous_log': Use this category for any log that indicates a warning or error.\\\n",
        "- 'standard_log': Use this category for logs that provide information about an ongoing process or indicate a process starting or completing.\\\\\n",
        "\n",
        "Output a single category only from the types ('anamolous_log', 'standard_log').\\\n",
        "Example output:\n",
        "'anamolous_log'\\\n",
        "\n",
        "LOG CONTENT:\\n\\n{initial_log}\\n\\n\n",
        "\n",
        "assistant\n",
        "\"\"\",\n",
        "    input_variables=[\"initial_log\"],\n",
        ")\n",
        "\n",
        "\n",
        "log_category_generator = prompt | chat | StrOutputParser()\n",
        "\n",
        "try:\n",
        "    final_logs = []\n",
        "    for log in nearby_logs:\n",
        "        log_category = str(log_category_generator.invoke({\"initial_log\": log}))\n",
        "        if log_category == \"'anamolous_log'\":\n",
        "            final_logs.append(log)\n",
        "            print(log)\n",
        "except Exception as e:\n",
        "    print(e)\n",
        "    pass\n",
        "\n"
      ]
    },
    {
      "cell_type": "markdown",
      "metadata": {
        "id": "TtWq_5O4MeDN"
      },
      "source": [
        "## Generating Search Tool Keywords"
      ]
    },
    {
      "cell_type": "code",
      "execution_count": 5,
      "metadata": {
        "colab": {
          "base_uri": "https://localhost:8080/"
        },
        "id": "LKQ3gMUfMeDN",
        "outputId": "7d1e432d-b059-415b-f777-5a6639bc91a8"
      },
      "outputs": [
        {
          "name": "stdout",
          "output_type": "stream",
          "text": [
            "{'keywords': ['mailslot_create', 'setsockopt', 'MCAST_ADD', 'EDC8116I', 'Address not available']}\n",
            "{'keywords': ['setsockopt', 'MCAST_ADD', 'EADDRNOTAVAI', 'multicast', 'socket']}\n"
          ]
        }
      ],
      "source": [
        "# Search keywords\n",
        "search_keyword_prompt = PromptTemplate(\n",
        "    template=\"\"\"system\n",
        "You are an expert at identifying the best keywords for a web search to find information about a log.\n",
        "\n",
        "Given the INITIAL_LOG, determine the most effective keywords that will help in explaining and providing potential fixes for the warning or error.\n",
        "\n",
        "Ignore specific memory addresses, IP addresses, and other details that are not useful for a general search.\n",
        "\n",
        "Return a JSON object with a single key 'keywords' containing no more than 5 keywords. Provide no preamble or explanation.\n",
        "\n",
        "user\n",
        "INITIAL_LOG: {initial_log} \\n\n",
        "\"\"\",\n",
        "    input_variables=[\"initial_log\"],\n",
        ")\n",
        "\n",
        "search_keyword_chain = search_keyword_prompt | chat | JsonOutputParser()\n",
        "\n",
        "for log in final_logs:\n",
        "    search_keywords = search_keyword_chain.invoke({\"initial_log\": log})\n",
        "    print(search_keywords)"
      ]
    },
    {
      "cell_type": "markdown",
      "metadata": {
        "id": "3WB_fn7AMeDO"
      },
      "source": [
        "## Creating the First Draft\n",
        "### Using information from the google tool, this agent creates the initial draft explaining each anamalous log. It will also use previous explanations to help generate later explanations"
      ]
    },
    {
      "cell_type": "code",
      "execution_count": 6,
      "metadata": {
        "colab": {
          "base_uri": "https://localhost:8080/"
        },
        "id": "NaDyZ_TYMeDO",
        "outputId": "2113cb92-252d-43ca-e914-fad65c77b06b"
      },
      "outputs": [
        {
          "name": "stdout",
          "output_type": "stream",
          "text": [
            "{'log_explanation': 'The anomalous log indicates that the `setsockopt(MCAST_ADD)` function failed with error `EDC8116I Address not available`. This suggests that the system is trying to add a multicast address to a socket, but the address is not available. \\n\\nLooking at the nearby logs, it appears that the system is registering multiple network interfaces and creating mailslots for RSVP (Resource Reservation Protocol) and RSVP-UDP. The warning message is repeated twice, which might indicate that the system is trying to create mailslots for RSVP and RSVP-UDP on two different interfaces. \\n\\nHowever, since there are no subsequent error messages or indications of a critical failure, it is likely that the system has automatically recovered from this issue. Therefore, there may be no need for the user to alter their code.'}\n",
            "{'log_explanation': 'This issue is similar to a previous one. The anomalous log indicates that the `setsockopt(MCAST_ADD)` function failed with error `EDC8116I Address not available`. This suggests that the system is trying to add a multicast address to a socket, but the address is not available. Since there are no subsequent error messages or indications of a critical failure, it is likely that the system has automatically recovered from this issue. Therefore, there may be no need for the user to alter their code.'}\n"
          ]
        }
      ],
      "source": [
        "explanation_writer_prompt = PromptTemplate(\n",
        "    template=\"\"\"system\n",
        "    You are the solution WRITER Agent which takes the anomalous INITIAL_LOG below and the NEARBY_LOGS surrounding the anomalous log.\\\n",
        "    Write an explanation for the anomalous log and possible solutions to the problem within the context of the NEARBY_LOGS.\\\n",
        "\n",
        "    You must take into account the subsequent outputs in the NEARBY_LOGS to determine whether the potential issue has been automatically resolved.\n",
        "    If it has, you can simply let the user know there is likely no need for them to alter their code and do not go on to provide a solution.\\\n",
        "\n",
        "    If a previous explanation is highly related, you must, before saying anything else, acknowledge that the issue is similar to a previous one and keep the explanation and solution extremely brief by paraphrasing the previous explanation.\\\n",
        "\n",
        "    If the provided RESEARCH_INFO is relevant to the log, you should use it to help you write the explanation and solution.\\\n",
        "\n",
        "    You never make up information that hasn't been provided by the INITIAL_LOG, RESEARCH_INFO, PREVIOUS EXPLANATIONS, or in the NEARBY_LOGS.\n",
        "\n",
        "    Return the string as a JSON with a single key 'log_explanation'.\n",
        "\n",
        "    user\n",
        "    INITIAL_LOG: {initial_log} \\n\n",
        "    NEARBY_LOGS: {nearby_logs} \\n\n",
        "    PREVIOUS_EXPLANATIONS: {prev_explanations} \\n\n",
        "    RESEARCH_INFO: {research_info} \\n\n",
        "    assistant\"\"\",\n",
        "    input_variables=[\"initial_log\", 'nearby_logs', 'prev_explanations', \"research_info\"],\n",
        ")\n",
        "\n",
        "draft_writer_chain = explanation_writer_prompt | chat | JsonOutputParser()\n",
        "\n",
        "try:\n",
        "    prev_explanations = \"\"\n",
        "    for log in final_logs:\n",
        "        curr_explanation = draft_writer_chain.invoke({\"initial_log\": log, \"nearby_logs\":to_str,\"research_info\":None, \"prev_explanations\": prev_explanations})\n",
        "        print(curr_explanation)\n",
        "        prev_explanations += curr_explanation[\"log_explanation\"] + \"\\n\"\n",
        "except Exception as e:\n",
        "    print(e)\n",
        "    pass"
      ]
    },
    {
      "cell_type": "markdown",
      "metadata": {
        "id": "JSUOQlM1MeDO"
      },
      "source": [
        "## Critiquing Agent\n",
        "### This agent reads the outputs drafted and decides whether to send them to agent that rewrites the explanantion"
      ]
    },
    {
      "cell_type": "code",
      "execution_count": 7,
      "metadata": {
        "colab": {
          "base_uri": "https://localhost:8080/"
        },
        "id": "69xTL0xRMeDO",
        "outputId": "5a00ab27-f39d-46bf-b96c-d5afef0028d0"
      },
      "outputs": [
        {
          "name": "stdout",
          "output_type": "stream",
          "text": [
            "{'router_decision': 'rewrite'}\n"
          ]
        }
      ],
      "source": [
        "rewrite_router_prompt = PromptTemplate(\n",
        "    template=\"\"\"system\n",
        "You are an expert at evaluating the quality of explanations/solutions for software logs intended to help developers improve their code. Your task is to determine whether the DRAFT_EXPLANATION needs to be rewritten.\n",
        "\n",
        "Use the following criteria to make your decision:\n",
        "\n",
        "1. If the INITIAL_LOG only requires a simple response which the DRAFT_EXPLANATION contains, then it doesn't need to be rewritten.\n",
        "2. If the DRAFT_EXPLANATION addresses all the concerns of the INITIAL_LOG, then it doesn't need to be rewritten.\n",
        "3. If the DRAFT_EXPLANATION is missing information that the INITIAL_LOG requires, then it needs to be rewritten.\n",
        "\n",
        "Ensure that the explanation is clear and concise. It need not be too wordy.\n",
        "\n",
        "Give a binary choice: 'rewrite' (for needs to be rewritten) or 'no_rewrite' (for doesn't need to be rewritten) based on the DRAFT_EXPLANATION and the criteria.\n",
        "\n",
        "Return a JSON object with a single key 'router_decision' and no preamble or explanation.\n",
        "\n",
        "user\n",
        "INITIAL_LOG: {initial_log} \\n\n",
        "DRAFT_EXPLANATION: {draft_explanation} \\n\n",
        "assistant\n",
        "\"\"\",\n",
        "    input_variables=[\"initial_log\", \"draft_explanation\"],\n",
        ")\n",
        "\n",
        "rewrite_router = rewrite_router_prompt | chat | JsonOutputParser()\n",
        "\n",
        "try:\n",
        "    draft_explanation = \"This log is bananas lmao.\"\n",
        "\n",
        "    print(rewrite_router.invoke({\"initial_log\": final_logs[0], \"draft_explanation\":draft_explanation, \"nearby_logs\":to_str}))\n",
        "except Exception as e:\n",
        "    print(e)\n",
        "    pass"
      ]
    },
    {
      "cell_type": "markdown",
      "metadata": {
        "id": "qqfyfVIMMeDO"
      },
      "source": [
        "## Draft Analysis Agent\n",
        "\n",
        "### Agent that suggests pointers to improve current draft's explanation of log"
      ]
    },
    {
      "cell_type": "code",
      "execution_count": 8,
      "metadata": {
        "colab": {
          "base_uri": "https://localhost:8080/"
        },
        "id": "Dq4hkAz3MeDO",
        "outputId": "5f526120-78df-4656-8057-29bd89f091e0"
      },
      "outputs": [
        {
          "name": "stdout",
          "output_type": "stream",
          "text": [
            "\"Input to PromptTemplate is missing variables {'prev_explanations'}.  Expected: ['draft_explanation', 'initial_log', 'prev_explanations', 'research_info'] Received: ['initial_log', 'research_info', 'draft_explanation']\"\n"
          ]
        }
      ],
      "source": [
        "draft_analysis_prompt = PromptTemplate(\n",
        "    template=\"\"\"system\n",
        "You are the Quality Control Agent tasked with analyzing the INITIAL_LOG from a software's log dump, the DRAFT_EXPLANATION from the solution writer agent, and the RESEARCH_INFO from the research agent.\n",
        "\n",
        "Your goal is to assess how well the DRAFT_EXPLANATION addresses the issues in the INITIAL_LOG and whether it provides an effective solution.\n",
        "\n",
        "Specifically, check if the DRAFT_EXPLANATION:\n",
        "1. Addresses the potential issues identified in the log.\n",
        "2. Provides a clear and effective solution.\n",
        "\n",
        "Give feedback on how the explanation can be improved, specifying what should be added or changed to make it more effective at addressing the software's issues.\n",
        "\n",
        "Do not make up or add any information that hasn't been provided in the RESEARCH_INFO or INITIAL_LOG.\n",
        "\n",
        "Return the analysis as a JSON object with a single key 'draft_analysis' and no preamble or explanation.\n",
        "\n",
        "user\n",
        "INITIAL_LOG: {initial_log} \\n\\n\n",
        "RESEARCH_INFO: {research_info} \\n\\n\n",
        "DRAFT_EXPLANATION: {draft_explanation} \\n\\n\n",
        "PREVIOUS_EXPLANATIONS: {prev_explanations} \\n\\n\n",
        "assisstant\n",
        "\"\"\",\n",
        "    input_variables=[\"initial_log\", \"research_info\", \"draft_explanation\", \"num_steps\", \"prev_explanations\"],\n",
        ")\n",
        "\n",
        "draft_analysis_chain = draft_analysis_prompt | chat | JsonOutputParser()\n",
        "\n",
        "try:\n",
        "    draft_explanation = \"Yo we can't help you with this log.\"\n",
        "\n",
        "    explanation_analysis = draft_analysis_chain.invoke({\"initial_log\": final_logs[0],\n",
        "                                    \"research_info\":\"\",\n",
        "                                    \"draft_explanation\": draft_explanation, })\n",
        "\n",
        "    print(explanation_analysis)\n",
        "except Exception as e:\n",
        "    print(e)\n",
        "    pass"
      ]
    },
    {
      "cell_type": "markdown",
      "metadata": {
        "id": "dJmZ2J8YMeDO"
      },
      "source": [
        "## Rewriting Agent\n",
        "\n",
        "### Final node of the graph. Takes a draft and rewrites it to address issues raised by draft_analysis agent"
      ]
    },
    {
      "cell_type": "code",
      "execution_count": 9,
      "metadata": {
        "colab": {
          "base_uri": "https://localhost:8080/"
        },
        "id": "CeovvPysMeDO",
        "outputId": "efe706b8-0a83-4b2d-e5b5-2462c2a0f1a7"
      },
      "outputs": [
        {
          "name": "stdout",
          "output_type": "stream",
          "text": [
            "name 'explanation_analysis' is not defined\n"
          ]
        }
      ],
      "source": [
        "rewrite_explanation_prompt = PromptTemplate(\n",
        "    template=\"\"\"system\n",
        "You are the Final Explanation Agent. Your task is to read the log analysis from the QC Agent and use it to rewrite and improve the draft_explanation, creating a final explanation.\n",
        "\n",
        "Do not make up or add any information that hasn't been provided by the research_info, nearby_logs, or initial_log.\n",
        "\n",
        "Consider the outputs in the NEARBY_LOGS to determine whether the potential issue has been automatically resolved.\n",
        "\n",
        "Return the final explanation as a JSON object with a single key 'final_explanation' which is a string, and no preamble or explanation.\n",
        "\n",
        "user\n",
        "RESEARCH_INFO: {research_info} \\n\\n\n",
        "DRAFT_EXPLANATION: {draft_explanation} \\n\\n\n",
        "DRAFT_EXPLANATION_FEEDBACK: {explanation_analysis} \\n\\n\n",
        "NEARBY_LOGS: {nearby_logs} \\n\\n\n",
        "assisstant\n",
        "\"\"\",\n",
        "    input_variables=[\"initial_log\", \"research_info\", \"explanation_analysis\", \"draft_explanation\", \"nearby_logs\"],\n",
        ")\n",
        "\n",
        "\n",
        "rewrite_chain = rewrite_explanation_prompt | chat | JsonOutputParser()\n",
        "\n",
        "\n",
        "try:\n",
        "    research_info = None\n",
        "    draft_explanation = \"Yo we can't help you with this log.\"\n",
        "\n",
        "    final_explanation = rewrite_chain.invoke({\"initial_log\": final_logs[0],\n",
        "                                    \"research_info\":research_info,\n",
        "                                    \"draft_explanation\": draft_explanation,\n",
        "                                    \"nearby_logs\":to_str,\n",
        "                                    \"explanation_analysis\": explanation_analysis[\"draft_analysis\"]})\n",
        "\n",
        "    print(final_explanation)\n",
        "except Exception as e:\n",
        "    print(e)\n",
        "    pass"
      ]
    },
    {
      "cell_type": "markdown",
      "metadata": {
        "id": "NqXDO2W8MeDO"
      },
      "source": [
        "## Defining Graph State and Nodes"
      ]
    },
    {
      "cell_type": "code",
      "execution_count": 10,
      "metadata": {
        "id": "V-T4HdbmMeDO"
      },
      "outputs": [],
      "source": [
        "class GraphState_pt1(TypedDict):\n",
        "    \"\"\"\n",
        "    Represents the state of our graph.\n",
        "\n",
        "    Attributes:\n",
        "        initial_log: log output\n",
        "        explanation: LLM generation\n",
        "        research_info: list of documents\n",
        "        nearby_logs: str of logs\n",
        "        num_steps: number of steps\n",
        "    \"\"\"\n",
        "    initial_log : str\n",
        "    explanation : str\n",
        "    prev_explanations : str\n",
        "    nearby_logs : str\n",
        "    research_info : List[str]\n",
        "    num_steps : int\n",
        "\n",
        "class GraphSate_pt2(TypedDict):\n",
        "    initial_log : str\n",
        "    draft_explanation: str\n",
        "    nearby_logs: str\n",
        "    prev_explanations: str\n",
        "    research_info : List[str]\n",
        "    draft_explanation_feedback: str\n",
        "    final_explanation: str\n",
        "    num_steps: int\n",
        "\n",
        "\n",
        "pt1 = StateGraph(GraphState_pt1)\n",
        "pt2 = StateGraph(GraphSate_pt2)"
      ]
    },
    {
      "cell_type": "code",
      "execution_count": 11,
      "metadata": {
        "id": "a9m8lAIbMeDO"
      },
      "outputs": [],
      "source": [
        "def categorize_log(state):\n",
        "    \"\"\"Decide if log is standard or anamolous\"\"\"\n",
        "    print(\"---CATEGORIZING INITIAL LOG---\")\n",
        "    initial_log = state['initial_log']\n",
        "    num_steps = int(state['num_steps'])\n",
        "    num_steps += 1\n",
        "\n",
        "    log_category = log_category_generator.invoke({\"initial_log\": initial_log})\n",
        "    if log_category != \"'anamolous_log'\":\n",
        "      print(\"No problems here.\")\n",
        "\n",
        "    return {\"log_category\": log_category, \"num_steps\":num_steps}\n",
        "\n",
        "pt1.add_node(\"categorize_log\", categorize_log)"
      ]
    },
    {
      "cell_type": "code",
      "execution_count": 12,
      "metadata": {
        "id": "pq1LIaydMeDO"
      },
      "outputs": [],
      "source": [
        "def research_info_search(state):\n",
        "    print(\"---SEARCHING FOR RESEARCH INFO---\")\n",
        "    initial_log = state['initial_log']\n",
        "    num_steps = int(state['num_steps'])\n",
        "    num_steps += 1\n",
        "    full_searches = []\n",
        "    search_keywords = search_keyword_chain.invoke({\"initial_log\": initial_log})\n",
        "    for keyword in search_keywords[\"keywords\"]:\n",
        "        temp_docs = tool.invoke({\"query\": keyword})\n",
        "\n",
        "        if full_searches:\n",
        "            full_searches.append(temp_docs)\n",
        "        else:\n",
        "            full_searches = [temp_docs]\n",
        "    print(full_searches)\n",
        "    return {\"research_info\": full_searches, \"num_steps\":num_steps}\n",
        "\n",
        "pt1.add_node(\"research_info_search\", research_info_search)"
      ]
    },
    {
      "cell_type": "code",
      "execution_count": 13,
      "metadata": {
        "id": "wABBacATMeDO"
      },
      "outputs": [],
      "source": [
        "def draft_explanation_writer(state):\n",
        "    print(\"---WRITING DRAFT EXPLANATION---\")\n",
        "    initial_log = state['initial_log']\n",
        "    nearby_logs = state['nearby_logs']\n",
        "    prev_explanations = state['prev_explanations']\n",
        "    research_info = state['research_info']\n",
        "    num_steps = int(state['num_steps'])\n",
        "    num_steps += 1\n",
        "\n",
        "    draft_explanation = draft_writer_chain.invoke({\"initial_log\": initial_log, \"nearby_logs\": nearby_logs,\"research_info\": research_info, \"prev_explanations\": prev_explanations})\n",
        "\n",
        "    draft_explanation = draft_explanation['log_explanation']\n",
        "\n",
        "    return {\"explanation\": draft_explanation}\n",
        "\n",
        "pt1.add_node(\"draft_explanation_writer\", draft_explanation_writer)"
      ]
    },
    {
      "cell_type": "code",
      "execution_count": 14,
      "metadata": {
        "id": "PyXdaV8LMeDO"
      },
      "outputs": [],
      "source": [
        "def analyze_draft_explanation(state):\n",
        "    print(\"---ANALYZING DRAFT EXPLANATION---\")\n",
        "    initial_log = state['initial_log']\n",
        "    draft_explanation = state['draft_explanation']\n",
        "    prev_explanations = state['prev_explanations']\n",
        "    research_info = state['research_info']\n",
        "    num_steps = int(state['num_steps'])\n",
        "    num_steps += 1\n",
        "\n",
        "    explanation_analysis = draft_analysis_chain.invoke({\"initial_log\": initial_log,\n",
        "                                 \"research_info\":research_info,\n",
        "                                 \"draft_explanation\": draft_explanation, \"prev_explanations\": prev_explanations})\n",
        "\n",
        "    explanation_analysis = explanation_analysis['draft_analysis']\n",
        "\n",
        "    return {\"draft_explanation_feedback\": explanation_analysis, \"num_steps\":num_steps}\n",
        "\n",
        "pt2.add_node(\"analyze_draft_explanation\", analyze_draft_explanation)"
      ]
    },
    {
      "cell_type": "code",
      "execution_count": 15,
      "metadata": {
        "id": "XKNuNZ9EMeDP"
      },
      "outputs": [],
      "source": [
        "def rewrite_explanation(state):\n",
        "    print(\"---REWRITING EXPLANATION---\")\n",
        "    initial_log = state['initial_log']\n",
        "    draft_explanation = state['draft_explanation']\n",
        "    explanation_analysis = state['draft_explanation_feedback']\n",
        "    research_info = state['research_info']\n",
        "    nearby_logs = state['nearby_logs']\n",
        "    num_steps = int(state['num_steps'])\n",
        "    num_steps += 1\n",
        "\n",
        "    final_explanation = rewrite_chain.invoke({\"initial_log\": initial_log,\n",
        "                                 \"research_info\":research_info,\n",
        "                                 \"draft_explanation\": draft_explanation,\n",
        "                                 \"explanation_analysis\": explanation_analysis, \"nearby_logs\": nearby_logs})\n",
        "\n",
        "    final_explanation = final_explanation['final_explanation']\n",
        "\n",
        "    return {\"final_explanation\": final_explanation, \"num_steps\":num_steps}\n",
        "\n",
        "pt2.add_node(\"rewrite_explanation\", rewrite_explanation)"
      ]
    },
    {
      "cell_type": "code",
      "execution_count": 16,
      "metadata": {
        "id": "pOl06NkNMeDP"
      },
      "outputs": [],
      "source": [
        "# def no_rewrite(state):\n",
        "#     print(\"---NO REWRITE NEEDED---\")\n",
        "#     draft_explanation = state['draft_explanation']\n",
        "#     num_steps = int(state['num_steps'])\n",
        "#     num_steps += 1\n",
        "\n",
        "#     prev_explanations = state['prev_explanations'] + draft_explanation + \"\\n\"\n",
        "\n",
        "#     print(f\"Final Explanation: {draft_explanation}\")\n",
        "\n",
        "#     return {\"final_explanation\": draft_explanation, \"prev_explanations\": prev_explanations, \"num_steps\":num_steps}\n",
        "\n",
        "\n",
        "# pt2.add_node(\"no_rewrite\", no_rewrite)"
      ]
    },
    {
      "cell_type": "code",
      "execution_count": 17,
      "metadata": {
        "id": "ow-T-u4vMeDP"
      },
      "outputs": [],
      "source": [
        "def state_printer(state):\n",
        "    print(f\"Initial Log: {state['initial_log']}\")\n",
        "    print(f\"Draft Explanation: {state['draft_explanation']}\")\n",
        "    print(f\"Final Explanation: {state['final_explanation']}\")\n",
        "    print(f\"Research Info: {state['research_info']}\")\n",
        "    print(f\"Num Steps: {state['num_steps']}\")\n",
        "    return\n",
        "\n",
        "pt2.add_node(\"state_printer\", state_printer)"
      ]
    },
    {
      "cell_type": "markdown",
      "metadata": {
        "id": "R2UZd-laMeDP"
      },
      "source": [
        "## Linking the Nodes"
      ]
    },
    {
      "cell_type": "code",
      "execution_count": 18,
      "metadata": {
        "id": "j98EuudGMeDP"
      },
      "outputs": [],
      "source": [
        "pt1.set_entry_point(\"categorize_log\")\n",
        "\n",
        "# if categorize log is anamolous, search for research info, otherwise END\n",
        "pt1.add_conditional_edges(\"categorize_log\", lambda state: state[\"log_category\"] == \"'anamolous_log'\", {\n",
        "    True: \"research_info_search\",\n",
        "    False: END\n",
        "})\n",
        "\n",
        "pt1.add_edge(\"research_info_search\", \"draft_explanation_writer\")\n",
        "\n",
        "# if draft requires rewrite, send to analyze draft explanation\n",
        "\n",
        "pt2.set_entry_point(\"analyze_draft_explanation\")\n",
        "\n",
        "pt2.add_edge(\"analyze_draft_explanation\", \"rewrite_explanation\")\n",
        "\n",
        "pt2.add_edge(\"rewrite_explanation\", \"state_printer\")\n",
        "\n",
        "pt2.add_edge(\"state_printer\", END)"
      ]
    },
    {
      "cell_type": "code",
      "execution_count": 19,
      "metadata": {
        "id": "IxZPrKeLMeDP"
      },
      "outputs": [],
      "source": [
        "# Compile\n",
        "graph1 = pt1.compile()\n",
        "\n",
        "graph2 = pt2.compile()"
      ]
    },
    {
      "cell_type": "markdown",
      "metadata": {
        "id": "3cadWUjtMeDP"
      },
      "source": [
        "## Demo"
      ]
    },
    {
      "cell_type": "code",
      "execution_count": 20,
      "metadata": {
        "colab": {
          "base_uri": "https://localhost:8080/"
        },
        "id": "oV3qFhWTMeDP",
        "outputId": "3cb2cd5b-5fbd-46f4-f9de-4fa72a00e128"
      },
      "outputs": [
        {
          "name": "stdout",
          "output_type": "stream",
          "text": [
            "---CATEGORIZING INITIAL LOG---\n",
            "No problems here.\n",
            "---CATEGORIZING INITIAL LOG---\n",
            "No problems here.\n",
            "---CATEGORIZING INITIAL LOG---\n",
            "No problems here.\n",
            "---CATEGORIZING INITIAL LOG---\n",
            "No problems here.\n",
            "---CATEGORIZING INITIAL LOG---\n",
            "No problems here.\n",
            "---CATEGORIZING INITIAL LOG---\n",
            "No problems here.\n",
            "---CATEGORIZING INITIAL LOG---\n",
            "---SEARCHING FOR RESEARCH INFO---\n",
            "['Jun 15, 2018 ... ... : EZA2590E listen error from initDsConnection - EDC8112I Operation not supported on socket. (errno2=0x744C7332)', 'Mar 31, 2016 ... Amazingly, nothing in the python socket docs for listen --- socket.listen([backlog]) Enable a server to accept connections. If backlog is\\xa0...', 'Apr 15, 2009 ... 5 Answers 5 ... You should consider using Real-time Transport Protocol (aka RTP). The underlying IP protocol used by RTP is UDP, but it has\\xa0...', '... settcpimage: Get TCP images rc - EDC8112I Operation not supported on socket. 03 03/22 08:51:01 INFO :..settcpimage: Associate with TCP/IP image name = TCPCS\\xa0...', 'Jan 12, 2016 ... 1 Answer 1 ... Port numbers below 1024 are reserved for the system, you need to have special privileges to bind sockets to those ports. You need\\xa0...']\n",
            "---WRITING DRAFT EXPLANATION---\n",
            "Anamolous Log: 03/22 08:51:01 INFO   :..settcpimage: Get TCP images rc - EDC8112I Operation not supported on socket.\n",
            "Draft Explanation: The anomalous log indicates an error in setting TCP images, specifically an operation not supported on the socket (EDC8112I). This error is similar to a previous issue where the 'listen' function failed due to an operation not supported on the socket (EZA2590E). \n",
            "\n",
            "The RESEARCH_INFO suggests that this issue might be related to socket configuration, particularly with regards to listening and binding to ports. \n",
            "\n",
            "However, based on the NEARBY_LOGS, it appears that the system was able to continue and allocate mailboxes for RSVP and RSVP-UDP, and even created mailslots for them. This implies that the system may have automatically recovered from the error. Therefore, there might be no need for further action.\n",
            "No need to rewrite\n",
            "Final Explanation: The anomalous log indicates an error in setting TCP images, specifically an operation not supported on the socket (EDC8112I). This error is similar to a previous issue where the 'listen' function failed due to an operation not supported on the socket (EZA2590E). \n",
            "\n",
            "The RESEARCH_INFO suggests that this issue might be related to socket configuration, particularly with regards to listening and binding to ports. \n",
            "\n",
            "However, based on the NEARBY_LOGS, it appears that the system was able to continue and allocate mailboxes for RSVP and RSVP-UDP, and even created mailslots for them. This implies that the system may have automatically recovered from the error. Therefore, there might be no need for further action.\n",
            "---CATEGORIZING INITIAL LOG---\n",
            "No problems here.\n",
            "---CATEGORIZING INITIAL LOG---\n",
            "No problems here.\n",
            "---CATEGORIZING INITIAL LOG---\n",
            "No problems here.\n",
            "---CATEGORIZING INITIAL LOG---\n",
            "No problems here.\n",
            "---CATEGORIZING INITIAL LOG---\n",
            "No problems here.\n",
            "---CATEGORIZING INITIAL LOG---\n",
            "No problems here.\n",
            "---CATEGORIZING INITIAL LOG---\n",
            "No problems here.\n",
            "---CATEGORIZING INITIAL LOG---\n",
            "No problems here.\n",
            "---CATEGORIZING INITIAL LOG---\n",
            "No problems here.\n",
            "---CATEGORIZING INITIAL LOG---\n",
            "No problems here.\n",
            "---CATEGORIZING INITIAL LOG---\n",
            "No problems here.\n",
            "---CATEGORIZING INITIAL LOG---\n",
            "No problems here.\n",
            "---CATEGORIZING INITIAL LOG---\n",
            "No problems here.\n",
            "---CATEGORIZING INITIAL LOG---\n",
            "No problems here.\n",
            "---CATEGORIZING INITIAL LOG---\n",
            "No problems here.\n",
            "---CATEGORIZING INITIAL LOG---\n",
            "No problems here.\n",
            "---CATEGORIZING INITIAL LOG---\n",
            "No problems here.\n",
            "---CATEGORIZING INITIAL LOG---\n",
            "No problems here.\n",
            "---CATEGORIZING INITIAL LOG---\n",
            "No problems here.\n",
            "---CATEGORIZING INITIAL LOG---\n",
            "No problems here.\n",
            "---CATEGORIZING INITIAL LOG---\n",
            "No problems here.\n",
            "---CATEGORIZING INITIAL LOG---\n",
            "---SEARCHING FOR RESEARCH INFO---\n",
            "['... mailslot_create: creating mailslot for RSVP 03/22 08:51:06 INFO :....mailbox_register: mailbox allocated for rsvp 03/22 08:51:06 INFO :.....mailslot_create\\xa0...', 'The setsockopt() function provides an application program with the means to control socket behavior. An application program can use setsockopt() to allocate\\xa0...', '# create a new UDP socket ready to read datagrams on port 1100. my $s = IO::Socket::Multicast->new( LocalPort =>1100); ; # Add a multicast group. $s ->mcast_add(\\xa0...', 'Apr 7, 2020 ... You need set you server ip not your router ip, then you need to open a port in your router and add one port forwarding to your server from your\\xa0...', 'Sep 6, 2017 ... We are getting this error message: EZA2590E connect error from initIPv4Connection - EDC8116I Address not available (errno2=0x744C7347) What\\xa0...']\n",
            "---WRITING DRAFT EXPLANATION---\n",
            "Anamolous Log: 03/22 08:51:06 WARNING:.....mailslot_create: setsockopt(MCAST_ADD) failed - EDC8116I Address not available.\n",
            "Draft Explanation: The anomalous log indicates an error in setting up a multicast socket, specifically an operation not supported on the socket (EDC8116I). This error is similar to a previous issue where an operation was not supported on the socket. However, based on the NEARBY_LOGS, it appears that the system was able to continue and allocate mailboxes for RSVP and RSVP-UDP, and even created mailslots for them. This implies that the system may have automatically recovered from the error. Therefore, there might be no need for further action.\n",
            "No need to rewrite\n",
            "Final Explanation: The anomalous log indicates an error in setting up a multicast socket, specifically an operation not supported on the socket (EDC8116I). This error is similar to a previous issue where an operation was not supported on the socket. However, based on the NEARBY_LOGS, it appears that the system was able to continue and allocate mailboxes for RSVP and RSVP-UDP, and even created mailslots for them. This implies that the system may have automatically recovered from the error. Therefore, there might be no need for further action.\n",
            "---CATEGORIZING INITIAL LOG---\n",
            "No problems here.\n",
            "---CATEGORIZING INITIAL LOG---\n",
            "No problems here.\n",
            "---CATEGORIZING INITIAL LOG---\n",
            "No problems here.\n",
            "---CATEGORIZING INITIAL LOG---\n",
            "No problems here.\n",
            "---CATEGORIZING INITIAL LOG---\n",
            "No problems here.\n",
            "---CATEGORIZING INITIAL LOG---\n",
            "---SEARCHING FOR RESEARCH INFO---\n",
            "['... mailslot_create: creating mailslot for RSVP 03/22 08:51:06 INFO :....mailbox_register: mailbox allocated for rsvp 03/22 08:51:06 INFO :.....mailslot_create\\xa0...', 'The setsockopt() function provides an application program with the means to control socket behavior. An application program can use setsockopt() to allocate\\xa0...', '# create a new UDP socket ready to read datagrams on port 1100. my $s = IO::Socket::Multicast->new( LocalPort =>1100); ; # Add a multicast group. $s ->mcast_add(\\xa0...', 'No good Google Search Result was found', 'Apr 7, 2020 ... You need set you server ip not your router ip, then you need to open a port in your router and add one port forwarding to your server from your\\xa0...']\n",
            "---WRITING DRAFT EXPLANATION---\n",
            "Anamolous Log: 03/22 08:51:06 WARNING:.....mailslot_create: setsockopt(MCAST_ADD) failed - EDC8116I Address not available.\n",
            "Draft Explanation: The anomalous log indicates an error in setting up a multicast socket, specifically an operation not supported on the socket (EDC8116I). This error is similar to a previous issue where an operation was not supported on the socket. However, based on the NEARBY_LOGS, it appears that the system was able to continue and allocate mailboxes for RSVP and RSVP-UDP, and even created mailslots for them. This implies that the system may have automatically recovered from the error. Therefore, there might be no need for further action.\n",
            "No need to rewrite\n",
            "Final Explanation: The anomalous log indicates an error in setting up a multicast socket, specifically an operation not supported on the socket (EDC8116I). This error is similar to a previous issue where an operation was not supported on the socket. However, based on the NEARBY_LOGS, it appears that the system was able to continue and allocate mailboxes for RSVP and RSVP-UDP, and even created mailslots for them. This implies that the system may have automatically recovered from the error. Therefore, there might be no need for further action.\n",
            "---CATEGORIZING INITIAL LOG---\n",
            "No problems here.\n",
            "---CATEGORIZING INITIAL LOG---\n",
            "No problems here.\n",
            "---CATEGORIZING INITIAL LOG---\n",
            "No problems here.\n",
            "---CATEGORIZING INITIAL LOG---\n",
            "No problems here.\n"
          ]
        }
      ],
      "source": [
        "if not timestamp:\n",
        "    timestamp = input(\"Enter timestamp: \")\n",
        "\n",
        "nearby_logs = \"\\n\".join(get_nearby_logs(log_data, timestamp))\n",
        "prev_explanations = \"\"\n",
        "\n",
        "for log in log_data.split(\"\\n\"):\n",
        "  inputs = {\"initial_log\": log, \"nearby_logs\": nearby_logs, \"num_steps\": 0, \"prev_explanations\": prev_explanations}\n",
        "  state = graph1.invoke(inputs)\n",
        "  if 'explanation' in state.keys():\n",
        "    out = state['explanation']\n",
        "    print(f\"Anamolous Log: {log}\")\n",
        "    print(f\"Draft Explanation: {out}\")\n",
        "\n",
        "    decision = rewrite_router.invoke({\"initial_log\": log, \"draft_explanation\": out})[\"router_decision\"]\n",
        "\n",
        "    if decision == \"rewrite\":\n",
        "      state2 = graph2.invoke({\"initial_log\": log, \"draft_explanation\": out, \"nearby_logs\": nearby_logs, \"prev_explanations\": prev_explanations, \"num_steps\" : state['num_steps'], \"research_info\": state['research_info']})\n",
        "      out = state2['final_explanation']\n",
        "    else:\n",
        "      prev_explanations += out + \"\\n\"\n",
        "      out = state['explanation']\n",
        "      print(\"No need to rewrite\")\n",
        "    print(f\"Final Explanation: {out}\")\n",
        "\n",
        "\n"
      ]
    },
    {
      "cell_type": "code",
      "execution_count": 20,
      "metadata": {
        "id": "T_h7SY27-SMX"
      },
      "outputs": [],
      "source": []
    }
  ],
  "metadata": {
    "colab": {
      "provenance": []
    },
    "kernelspec": {
      "display_name": "base",
      "language": "python",
      "name": "python3"
    },
    "language_info": {
      "codemirror_mode": {
        "name": "ipython",
        "version": 3
      },
      "file_extension": ".py",
      "mimetype": "text/x-python",
      "name": "python",
      "nbconvert_exporter": "python",
      "pygments_lexer": "ipython3",
      "version": "3.11.5"
    },
    "orig_nbformat": 4
  },
  "nbformat": 4,
  "nbformat_minor": 0
}
